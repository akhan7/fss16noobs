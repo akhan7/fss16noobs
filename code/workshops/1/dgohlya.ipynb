{
 "cells": [
  {
   "cell_type": "markdown",
   "metadata": {},
   "source": [
    "# Genetic Algorithm Workshop"
   ]
  },
  {
   "cell_type": "markdown",
   "metadata": {},
   "source": [
    "In this workshop we will code up a genetic algorithm for a simple mathematical optimization problem.\n",
    "\n",
    "Genetic Algorithm is a\n",
    "* Meta-heuristic\n",
    "* Inspired by Natural Selection\n",
    "* Traditionally works on binary data. Can be adopted for other data types as well.\n",
    "\n",
    "You can find an example illustrating GA below\n",
    "![](https://github.com/timm/sbse14/wiki/etc/img/ga.jpg)"
   ]
  },
  {
   "cell_type": "code",
   "execution_count": 1,
   "metadata": {
    "collapsed": false
   },
   "outputs": [
    {
     "name": "stdout",
     "output_type": "stream",
     "text": [
      "Unity ID:  dgohlya\n"
     ]
    }
   ],
   "source": [
    "%matplotlib inline\n",
    "# All the imports\n",
    "from __future__ import print_function, division\n",
    "from math import *\n",
    "import random\n",
    "import sys\n",
    "import matplotlib.pyplot as plt\n",
    "\n",
    "# TODO 1: Enter your unity ID here \n",
    "__author__ = \"dgohlya\"\n",
    "\n",
    "class O:\n",
    "    \"\"\"\n",
    "    Basic Class which\n",
    "        - Helps dynamic updates\n",
    "        - Pretty Prints\n",
    "    \"\"\"\n",
    "    def __init__(self, **kwargs):\n",
    "        self.has().update(**kwargs)\n",
    "    def has(self):\n",
    "        return self.__dict__\n",
    "    def update(self, **kwargs):\n",
    "        self.has().update(kwargs)\n",
    "        return self\n",
    "    def __repr__(self):\n",
    "        show = [':%s %s' % (k, self.has()[k]) \n",
    "                for k in sorted(self.has().keys()) \n",
    "                if k[0] is not \"_\"]\n",
    "        txt = ' '.join(show)\n",
    "        if len(txt) > 60:\n",
    "            show = map(lambda x: '\\t' + x + '\\n', show)\n",
    "        return '{' + ' '.join(show) + '}'\n",
    "    \n",
    "print(\"Unity ID: \", __author__)"
   ]
  },
  {
   "cell_type": "markdown",
   "metadata": {},
   "source": [
    "### The optimization problem\n",
    "The problem we are considering is a mathematical one \n",
    "<img src=\"cone.png\" width=500px/>\n",
    "\n",
    "**Decisions**: *r* in [0, 10] cm; *h* in [0, 20] cm\n",
    "\n",
    "**Objectives**: minimize *S*, *T*\n",
    "\n",
    "**Constraints**: *V* > 200cm<sup>3</sup>"
   ]
  },
  {
   "cell_type": "code",
   "execution_count": 2,
   "metadata": {
    "collapsed": false
   },
   "outputs": [
    {
     "name": "stdout",
     "output_type": "stream",
     "text": [
      "{\t:decisions [3.71, 18.62]\n",
      " \t:objectives [221.287785140323, 264.52898058359824]\n",
      "}\n"
     ]
    }
   ],
   "source": [
    "# Few Utility functions\n",
    "def say(*lst):\n",
    "    \"\"\"\n",
    "    Print whithout going to new line\n",
    "    \"\"\"\n",
    "    print(*lst, end=\"\")\n",
    "    sys.stdout.flush()\n",
    "\n",
    "def random_value(low, high, decimals=2):\n",
    "    \"\"\"\n",
    "    Generate a random number between low and high. \n",
    "    decimals incidicate number of decimal places\n",
    "    \"\"\"\n",
    "    return round(random.uniform(low, high),decimals)\n",
    "\n",
    "def gt(a, b): return a > b\n",
    "\n",
    "def lt(a, b): return a < b\n",
    "\n",
    "def shuffle(lst):\n",
    "    \"\"\"\n",
    "    Shuffle a list\n",
    "    \"\"\"\n",
    "    random.shuffle(lst)\n",
    "    return lst\n",
    "\n",
    "class Decision(O):\n",
    "    \"\"\"\n",
    "    Class indicating Decision of a problem\n",
    "    \"\"\"\n",
    "    def __init__(self, name, low, high):\n",
    "        \"\"\"\n",
    "        @param name: Name of the decision\n",
    "        @param low: minimum value\n",
    "        @param high: maximum value\n",
    "        \"\"\"\n",
    "        O.__init__(self, name=name, low=low, high=high)\n",
    "        \n",
    "class Objective(O):\n",
    "    \"\"\"\n",
    "    Class indicating Objective of a problem\n",
    "    \"\"\"\n",
    "    def __init__(self, name, do_minimize=True):\n",
    "        \"\"\"\n",
    "        @param name: Name of the objective\n",
    "        @param do_minimize: Flag indicating if objective has to be minimized or maximized\n",
    "        \"\"\"\n",
    "        O.__init__(self, name=name, do_minimize=do_minimize)\n",
    "\n",
    "class Point(O):\n",
    "    \"\"\"\n",
    "    Represents a member of the population\n",
    "    \"\"\"\n",
    "    def __init__(self, decisions):\n",
    "        O.__init__(self)\n",
    "        self.decisions = decisions\n",
    "        self.objectives = None\n",
    "        \n",
    "    def __hash__(self):\n",
    "        return hash(tuple(self.decisions))\n",
    "    \n",
    "    def __eq__(self, other):\n",
    "        return self.decisions == other.decisions\n",
    "    \n",
    "    def clone(self):\n",
    "        new = Point(self.decisions)\n",
    "        new.objectives = self.objectives\n",
    "        return new\n",
    "\n",
    "class Problem(O):\n",
    "    \"\"\"\n",
    "    Class representing the cone problem.\n",
    "    \"\"\"\n",
    "    def __init__(self):\n",
    "        O.__init__(self)\n",
    "        # TODO 2: Code up decisions and objectives below for the problem\n",
    "        # using the auxilary classes provided above.\n",
    "        self.decisions = [Decision('r', 0, 10), Decision('h', 0, 20)]\n",
    "        self.objectives = [Objective('S', True), Objective('T', True)]\n",
    "        \n",
    "    @staticmethod\n",
    "    def evaluate(point):\n",
    "        [r, h] = point.decisions\n",
    "        l = (r**2 + h**2)**0.5\n",
    "        S = pi * r * l\n",
    "        T = S + pi*r**2\n",
    "        point.objectives = [S, T]\n",
    "        # TODO 3: Evaluate the objectives S and T for the point.\n",
    "        return point.objectives\n",
    "    \n",
    "    @staticmethod\n",
    "    def is_valid(point):\n",
    "        [r, h] = point.decisions\n",
    "        # TODO 4: Check if the point has valid decisions\n",
    "        V = pi*(r**2)*h/3\n",
    "        return  V > 200\n",
    "    \n",
    "    def generate_one(self):\n",
    "        # TODO 5: Generate a valid instance of Point.\n",
    "        while(True):\n",
    "            point = Point([random_value(d.low, d.high) for d in self.decisions])\n",
    "            if Problem.is_valid(point):\n",
    "                return point\n",
    "cone = Problem()\n",
    "point = cone.generate_one()\n",
    "cone.evaluate(point)\n",
    "print(point)"
   ]
  },
  {
   "cell_type": "markdown",
   "metadata": {},
   "source": [
    "Great. Now that the class and its basic methods is defined, we move on to code up the GA.\n",
    "### Population\n",
    "First up is to create an initial population. "
   ]
  },
  {
   "cell_type": "code",
   "execution_count": 3,
   "metadata": {
    "collapsed": false
   },
   "outputs": [
    {
     "name": "stdout",
     "output_type": "stream",
     "text": [
      "[{:decisions [5.13, 14.94] :objectives None}, {:decisions [6.19, 5.44] :objectives None}, {:decisions [5.99, 18.25] :objectives None}, {:decisions [5.94, 12.2] :objectives None}, {:decisions [7.35, 10.89] :objectives None}]\n"
     ]
    }
   ],
   "source": [
    "def populate(problem, size):\n",
    "    population = []\n",
    "    # TODO 6: Create a list of points of length 'size'\n",
    "    for _ in xrange(size):\n",
    "        population.append(problem.generate_one())\n",
    "    return population\n",
    "\n",
    "print(populate(cone, 5))\n",
    "        "
   ]
  },
  {
   "cell_type": "markdown",
   "metadata": {},
   "source": [
    "### Crossover\n",
    "We perform a single point crossover between two points"
   ]
  },
  {
   "cell_type": "code",
   "execution_count": 4,
   "metadata": {
    "collapsed": false
   },
   "outputs": [
    {
     "name": "stdout",
     "output_type": "stream",
     "text": [
      "{:decisions [8.86, 19.41] :objectives None}\n"
     ]
    }
   ],
   "source": [
    "def crossover(mom, dad):\n",
    "    # TODO 7: Create a new point which contains decisions from \n",
    "    # the first half of mom and second half of dad\n",
    "    n = len(mom.decisions)\n",
    "    return Point(mom.decisions[:n//2] + dad.decisions[n//2:])\n",
    "mom = cone.generate_one()\n",
    "dad = cone.generate_one()\n",
    "print(crossover(mom, dad))\n"
   ]
  },
  {
   "cell_type": "markdown",
   "metadata": {},
   "source": [
    "### Mutation\n",
    "Randomly change a decision such that "
   ]
  },
  {
   "cell_type": "code",
   "execution_count": 5,
   "metadata": {
    "collapsed": false
   },
   "outputs": [],
   "source": [
    "def mutate(problem, point, mutation_rate=0.01):\n",
    "    # TODO 8: Iterate through all the decisions in the point\n",
    "    # and if the probability is less than mutation rate\n",
    "    # change the decision(randomly set it between its max and min).\n",
    "    for i,d in enumerate(problem.decisions):\n",
    "        if random.random() < mutation_rate:\n",
    "            point.decisions[i] =  random_value(d.low,d.high)\n",
    "    return point"
   ]
  },
  {
   "cell_type": "markdown",
   "metadata": {},
   "source": [
    "### Fitness Evaluation\n",
    "To evaluate fitness between points we use binary domination. Binary Domination is defined as follows:\n",
    "* Consider two points one and two.\n",
    "* For every decision **o** and **t** in **one** and **two**, **o** <= **t**\n",
    "* Atleast one decision **o** and **t** in **one** and **two**, **o** == **t**\n",
    "\n",
    "**Note**: Binary Domination is not the best method to evaluate fitness but due to its simplicity we choose to use it for this workshop.\n"
   ]
  },
  {
   "cell_type": "code",
   "execution_count": 6,
   "metadata": {
    "collapsed": false
   },
   "outputs": [
    {
     "name": "stdout",
     "output_type": "stream",
     "text": [
      "{:decisions [8.86, 12.76] :objectives None}\n",
      "{:decisions [5.96, 19.41] :objectives None}\n",
      "False\n"
     ]
    }
   ],
   "source": [
    "def bdom(problem, one, two):\n",
    "    \"\"\"\n",
    "    Return if one dominates two\n",
    "    \"\"\"\n",
    "    objs_one = problem.evaluate(one)\n",
    "    objs_two = problem.evaluate(two)\n",
    "    dominates = False\n",
    "    # TODO 9: Return True/False based on the definition\n",
    "    # of bdom above.\n",
    "    for (obj_one, obj_two) in zip(objs_one, objs_two):\n",
    "        if obj_two < obj_one:\n",
    "            return False\n",
    "        elif obj_one < obj_two:\n",
    "            dominates = True\n",
    "    return dominates \n",
    "\n",
    "print(mom)\n",
    "print(dad)\n",
    "print(bdom(cone,mom,dad))     "
   ]
  },
  {
   "cell_type": "markdown",
   "metadata": {},
   "source": [
    "### Fitness and Elitism\n",
    "\n",
    "In this workshop we will count the number of points of the population P dominated by a point A as the fitness of point A. This is a very naive measure of fitness since we are using binary domination. \n",
    "\n",
    "Few prominent alternate methods are\n",
    "1. [Continuous Domination](http://www.tik.ee.ethz.ch/sop/publicationListFiles/zk2004a.pdf) - Section 3.1\n",
    "2. [Non-dominated Sort](http://ieeexplore.ieee.org/stamp/stamp.jsp?arnumber=996017)\n",
    "3. [Non-dominated Sort + Niching](http://www.egr.msu.edu/~kdeb/papers/k2012009.pdf)\n",
    "\n",
    "**Elitism**: Sort points with respect to the fitness and select the top points."
   ]
  },
  {
   "cell_type": "code",
   "execution_count": 7,
   "metadata": {
    "collapsed": false
   },
   "outputs": [
    {
     "name": "stdout",
     "output_type": "stream",
     "text": [
      "[{\t:decisions [7.1, 12.03]\n",
      " \t:objectives [311.5811997458962, 469.94888541335763]\n",
      "}, {\t:decisions [7.44, 13.4]\n",
      " \t:objectives [358.24231972869995, 532.140782838448]\n",
      "}, {\t:decisions [9.02, 4.4]\n",
      " \t:objectives [284.39053036625916, 539.9917652993861]\n",
      "}]\n"
     ]
    }
   ],
   "source": [
    "def fitness(problem, population, point):\n",
    "    dominates = 0\n",
    "    # TODO 10: Evaluate fitness of a point.\n",
    "    # For this workshop define fitness of a point \n",
    "    # as the number of points dominated by it.\n",
    "    # For example point dominates 5 members of population,\n",
    "    # then fitness of point is 5.\n",
    "    for p in population:\n",
    "        if p != point and bdom(problem, point, p):\n",
    "            dominates += 1\n",
    "    return dominates\n",
    "\n",
    "def elitism(problem, population, retain_size):\n",
    "    # TODO 11: Sort the population with respect to the fitness\n",
    "    # of the points and return the top 'retain_size' points of the population\n",
    "    population = sorted(population, key=lambda x: fitness(problem, population, x), reverse=True)\n",
    "    return population[:retain_size]\n",
    "\n",
    "print(elitism(cone, populate(cone, 5), 3))"
   ]
  },
  {
   "cell_type": "markdown",
   "metadata": {},
   "source": [
    "### Putting it all together and making the GA"
   ]
  },
  {
   "cell_type": "code",
   "execution_count": 8,
   "metadata": {
    "collapsed": false
   },
   "outputs": [],
   "source": [
    "def ga(pop_size = 100, gens = 250):\n",
    "    problem = Problem()\n",
    "    population = populate(problem, pop_size)\n",
    "    [problem.evaluate(point) for point in population]\n",
    "    initial_population = [point.clone() for point in population]\n",
    "    gen = 0 \n",
    "    while gen < gens:\n",
    "        say(\".\")\n",
    "        children = []\n",
    "        for _ in range(pop_size):\n",
    "            mom = random.choice(population)\n",
    "            dad = random.choice(population)\n",
    "            while (mom == dad):\n",
    "                dad = random.choice(population)\n",
    "            child = mutate(problem, crossover(mom, dad))\n",
    "            if problem.is_valid(child) and child not in population+children:\n",
    "                children.append(child)\n",
    "        population += children\n",
    "        population = elitism(problem, population, pop_size)\n",
    "        gen += 1\n",
    "    print(\"\")\n",
    "    return initial_population, population"
   ]
  },
  {
   "cell_type": "markdown",
   "metadata": {},
   "source": [
    "### Visualize\n",
    "Lets plot the initial population with respect to the final frontier."
   ]
  },
  {
   "cell_type": "code",
   "execution_count": 9,
   "metadata": {
    "collapsed": true
   },
   "outputs": [],
   "source": [
    "def plot_pareto(initial, final):\n",
    "    initial_objs = [point.objectives for point in initial]\n",
    "    final_objs = [point.objectives for point in final]\n",
    "    initial_x = [i[0] for i in initial_objs]\n",
    "    initial_y = [i[1] for i in initial_objs]\n",
    "    final_x = [i[0] for i in final_objs]\n",
    "    final_y = [i[1] for i in final_objs]\n",
    "    plt.scatter(initial_x, initial_y, color='b', marker='+', label='initial')\n",
    "    plt.scatter(final_x, final_y, color='r', marker='o', label='final')\n",
    "    plt.title(\"Scatter Plot between initial and final population of GA\")\n",
    "    plt.ylabel(\"Total Surface Area(T)\")\n",
    "    plt.xlabel(\"Curved Surface Area(S)\")\n",
    "    plt.legend(loc=9, bbox_to_anchor=(0.5, -0.175), ncol=2)\n",
    "    plt.show()\n",
    "    "
   ]
  },
  {
   "cell_type": "code",
   "execution_count": 10,
   "metadata": {
    "collapsed": false
   },
   "outputs": [
    {
     "name": "stdout",
     "output_type": "stream",
     "text": [
      "..........................................................................................................................................................................................................................................................\n"
     ]
    },
    {
     "data": {
      "image/png": "[encoded data removed]",
      "text/plain": [
       "<matplotlib.figure.Figure at 0x10e0fab90>"
      ]
     },
     "metadata": {},
     "output_type": "display_data"
    }
   ],
   "source": [
    "initial, final = ga()\n",
    "plot_pareto(initial, final)"
   ]
  },
  {
   "cell_type": "markdown",
   "metadata": {},
   "source": [
    "Here is a sample output\n",
    "<img src=\"sample.png\" width=300/>"
   ]
  },
  {
   "cell_type": "code",
   "execution_count": null,
   "metadata": {
    "collapsed": true
   },
   "outputs": [],
   "source": []
  }
 ],
 "metadata": {
  "kernelspec": {
   "display_name": "Python 2",
   "language": "python",
   "name": "python2"
  },
  "language_info": {
   "codemirror_mode": {
    "name": "ipython",
    "version": 2
   },
   "file_extension": ".py",
   "mimetype": "text/x-python",
   "name": "python",
   "nbconvert_exporter": "python",
   "pygments_lexer": "ipython2",
   "version": "2.7.10"
  }
 },
 "nbformat": 4,
 "nbformat_minor": 0
}
